{
 "cells": [
  {
   "cell_type": "code",
   "execution_count": 1,
   "metadata": {},
   "outputs": [
    {
     "name": "stderr",
     "output_type": "stream",
     "text": [
      "/opt/anaconda3/lib/python3.7/site-packages/sklearn/externals/joblib/__init__.py:15: DeprecationWarning: sklearn.externals.joblib is deprecated in 0.21 and will be removed in 0.23. Please import this functionality directly from joblib, which can be installed with: pip install joblib. If this warning is raised when loading pickled models, you may need to re-serialize those models with scikit-learn 0.21+.\n",
      "  warnings.warn(msg, category=DeprecationWarning)\n"
     ]
    }
   ],
   "source": [
    "import numpy as np\n",
    "import pandas as pd\n",
    "from sklearn.model_selection import train_test_split\n",
    "from sklearn import preprocessing\n",
    "from sklearn.ensemble import RandomForestRegressor\n",
    "from sklearn.pipeline import make_pipeline\n",
    "from sklearn.model_selection import GridSearchCV\n",
    "from sklearn.metrics import mean_squared_error, r2_score, f1_score\n",
    "from sklearn.externals import joblib\n"
   ]
  },
  {
   "cell_type": "code",
   "execution_count": 2,
   "metadata": {},
   "outputs": [],
   "source": [
    "#Load and read the data set \n",
    "dataset_url = 'http://mlr.cs.umass.edu/ml/machine-learning-databases/wine-quality/winequality-red.csv'\n",
    "data = pd.read_csv(dataset_url)"
   ]
  },
  {
   "cell_type": "code",
   "execution_count": 3,
   "metadata": {},
   "outputs": [
    {
     "name": "stdout",
     "output_type": "stream",
     "text": [
      "http://mlr.cs.umass.edu/ml/machine-learning-databases/wine-quality/winequality-red.csv\n"
     ]
    }
   ],
   "source": [
    "print (dataset_url)\n"
   ]
  },
  {
   "cell_type": "code",
   "execution_count": 5,
   "metadata": {
    "scrolled": true
   },
   "outputs": [
    {
     "name": "stdout",
     "output_type": "stream",
     "text": [
      "  fixed acidity;\"volatile acidity\";\"citric acid\";\"residual sugar\";\"chlorides\";\"free sulfur dioxide\";\"total sulfur dioxide\";\"density\";\"pH\";\"sulphates\";\"alcohol\";\"quality\"\n",
      "0   7.4;0.7;0;1.9;0.076;11;34;0.9978;3.51;0.56;9.4;5                                                                                                                     \n",
      "1   7.8;0.88;0;2.6;0.098;25;67;0.9968;3.2;0.68;9.8;5                                                                                                                     \n",
      "2  7.8;0.76;0.04;2.3;0.092;15;54;0.997;3.26;0.65;...                                                                                                                     \n",
      "3  11.2;0.28;0.56;1.9;0.075;17;60;0.998;3.16;0.58...                                                                                                                     \n",
      "4   7.4;0.7;0;1.9;0.076;11;34;0.9978;3.51;0.56;9.4;5                                                                                                                     \n"
     ]
    }
   ],
   "source": [
    "print (data.head())"
   ]
  },
  {
   "cell_type": "code",
   "execution_count": 6,
   "metadata": {},
   "outputs": [
    {
     "name": "stdout",
     "output_type": "stream",
     "text": [
      "   fixed acidity  volatile acidity  citric acid  residual sugar  chlorides  \\\n",
      "0            7.4              0.70         0.00             1.9      0.076   \n",
      "1            7.8              0.88         0.00             2.6      0.098   \n",
      "2            7.8              0.76         0.04             2.3      0.092   \n",
      "3           11.2              0.28         0.56             1.9      0.075   \n",
      "4            7.4              0.70         0.00             1.9      0.076   \n",
      "\n",
      "   free sulfur dioxide  total sulfur dioxide  density    pH  sulphates  \\\n",
      "0                 11.0                  34.0   0.9978  3.51       0.56   \n",
      "1                 25.0                  67.0   0.9968  3.20       0.68   \n",
      "2                 15.0                  54.0   0.9970  3.26       0.65   \n",
      "3                 17.0                  60.0   0.9980  3.16       0.58   \n",
      "4                 11.0                  34.0   0.9978  3.51       0.56   \n",
      "\n",
      "   alcohol  quality  \n",
      "0      9.4        5  \n",
      "1      9.8        5  \n",
      "2      9.8        5  \n",
      "3      9.8        6  \n",
      "4      9.4        5  \n"
     ]
    }
   ],
   "source": [
    "data = pd.read_csv(dataset_url, sep=';')\n",
    "print (data.head())"
   ]
  },
  {
   "cell_type": "code",
   "execution_count": 7,
   "metadata": {},
   "outputs": [
    {
     "name": "stdout",
     "output_type": "stream",
     "text": [
      "(1599, 12)\n"
     ]
    }
   ],
   "source": [
    "print (data.shape)"
   ]
  },
  {
   "cell_type": "code",
   "execution_count": 8,
   "metadata": {},
   "outputs": [
    {
     "name": "stdout",
     "output_type": "stream",
     "text": [
      "<bound method NDFrame.describe of       fixed acidity  volatile acidity  citric acid  residual sugar  chlorides  \\\n",
      "0               7.4             0.700         0.00             1.9      0.076   \n",
      "1               7.8             0.880         0.00             2.6      0.098   \n",
      "2               7.8             0.760         0.04             2.3      0.092   \n",
      "3              11.2             0.280         0.56             1.9      0.075   \n",
      "4               7.4             0.700         0.00             1.9      0.076   \n",
      "...             ...               ...          ...             ...        ...   \n",
      "1594            6.2             0.600         0.08             2.0      0.090   \n",
      "1595            5.9             0.550         0.10             2.2      0.062   \n",
      "1596            6.3             0.510         0.13             2.3      0.076   \n",
      "1597            5.9             0.645         0.12             2.0      0.075   \n",
      "1598            6.0             0.310         0.47             3.6      0.067   \n",
      "\n",
      "      free sulfur dioxide  total sulfur dioxide  density    pH  sulphates  \\\n",
      "0                    11.0                  34.0  0.99780  3.51       0.56   \n",
      "1                    25.0                  67.0  0.99680  3.20       0.68   \n",
      "2                    15.0                  54.0  0.99700  3.26       0.65   \n",
      "3                    17.0                  60.0  0.99800  3.16       0.58   \n",
      "4                    11.0                  34.0  0.99780  3.51       0.56   \n",
      "...                   ...                   ...      ...   ...        ...   \n",
      "1594                 32.0                  44.0  0.99490  3.45       0.58   \n",
      "1595                 39.0                  51.0  0.99512  3.52       0.76   \n",
      "1596                 29.0                  40.0  0.99574  3.42       0.75   \n",
      "1597                 32.0                  44.0  0.99547  3.57       0.71   \n",
      "1598                 18.0                  42.0  0.99549  3.39       0.66   \n",
      "\n",
      "      alcohol  quality  \n",
      "0         9.4        5  \n",
      "1         9.8        5  \n",
      "2         9.8        5  \n",
      "3         9.8        6  \n",
      "4         9.4        5  \n",
      "...       ...      ...  \n",
      "1594     10.5        5  \n",
      "1595     11.2        6  \n",
      "1596     11.0        6  \n",
      "1597     10.2        5  \n",
      "1598     11.0        6  \n",
      "\n",
      "[1599 rows x 12 columns]>\n"
     ]
    }
   ],
   "source": [
    "print (data.describe)"
   ]
  },
  {
   "cell_type": "code",
   "execution_count": 8,
   "metadata": {},
   "outputs": [],
   "source": [
    "#Extract input features (1-10 and output feature column quality)\n",
    "y = data.quality\n",
    "X = data.drop('quality', axis=1)\n",
    "X_train, X_test, y_train, y_test = train_test_split(X, y, \n",
    "                                                    test_size=0.2, \n",
    "                                                    random_state=123, \n",
    "                                                    stratify=y)"
   ]
  },
  {
   "cell_type": "code",
   "execution_count": 9,
   "metadata": {},
   "outputs": [
    {
     "name": "stdout",
     "output_type": "stream",
     "text": [
      "      fixed acidity  volatile acidity  citric acid  residual sugar  chlorides  \\\n",
      "691             9.2             0.920         0.24             2.6      0.087   \n",
      "1475            5.3             0.470         0.11             2.2      0.048   \n",
      "1065            7.7             0.610         0.18             2.4      0.083   \n",
      "1159           10.2             0.410         0.43             2.2      0.110   \n",
      "227             9.0             0.820         0.14             2.6      0.089   \n",
      "...             ...               ...          ...             ...        ...   \n",
      "463             8.1             0.660         0.70             2.2      0.098   \n",
      "558            10.9             0.530         0.49             4.6      0.118   \n",
      "1094            6.6             0.725         0.09             5.5      0.117   \n",
      "792             7.1             0.610         0.02             2.5      0.081   \n",
      "381            13.7             0.415         0.68             2.9      0.085   \n",
      "\n",
      "      free sulfur dioxide  total sulfur dioxide  density    pH  sulphates  \\\n",
      "691                  12.0                  93.0  0.99980  3.48       0.54   \n",
      "1475                 16.0                  89.0  0.99182  3.54       0.88   \n",
      "1065                  6.0                  20.0  0.99630  3.29       0.60   \n",
      "1159                 11.0                  37.0  0.99728  3.16       0.67   \n",
      "227                   9.0                  23.0  0.99840  3.39       0.63   \n",
      "...                   ...                   ...      ...   ...        ...   \n",
      "463                  25.0                 129.0  0.99720  3.08       0.53   \n",
      "558                  10.0                  17.0  1.00020  3.07       0.56   \n",
      "1094                  9.0                  17.0  0.99655  3.35       0.49   \n",
      "792                  17.0                  87.0  0.99745  3.48       0.60   \n",
      "381                  17.0                  43.0  1.00140  3.06       0.80   \n",
      "\n",
      "        alcohol  \n",
      "691    9.800000  \n",
      "1475  13.566667  \n",
      "1065  10.200000  \n",
      "1159  10.800000  \n",
      "227    9.800000  \n",
      "...         ...  \n",
      "463    9.000000  \n",
      "558   11.700000  \n",
      "1094  10.800000  \n",
      "792    9.700000  \n",
      "381   10.000000  \n",
      "\n",
      "[1279 rows x 11 columns]\n"
     ]
    }
   ],
   "source": [
    "print (X_train)"
   ]
  },
  {
   "cell_type": "code",
   "execution_count": 10,
   "metadata": {},
   "outputs": [
    {
     "name": "stdout",
     "output_type": "stream",
     "text": [
      "691     5\n",
      "1475    7\n",
      "1065    6\n",
      "1159    5\n",
      "227     5\n",
      "       ..\n",
      "463     5\n",
      "558     6\n",
      "1094    6\n",
      "792     6\n",
      "381     6\n",
      "Name: quality, Length: 1279, dtype: int64\n"
     ]
    }
   ],
   "source": [
    "print (y_train)"
   ]
  },
  {
   "cell_type": "code",
   "execution_count": 11,
   "metadata": {},
   "outputs": [
    {
     "name": "stdout",
     "output_type": "stream",
     "text": [
      "797     7\n",
      "871     5\n",
      "1333    5\n",
      "1463    6\n",
      "1058    7\n",
      "       ..\n",
      "211     6\n",
      "162     6\n",
      "748     6\n",
      "914     6\n",
      "557     5\n",
      "Name: quality, Length: 320, dtype: int64\n"
     ]
    }
   ],
   "source": [
    "print (y_test)"
   ]
  },
  {
   "cell_type": "code",
   "execution_count": 12,
   "metadata": {},
   "outputs": [],
   "source": [
    "#Standardize the datasets \n",
    "scaler = preprocessing.StandardScaler().fit(X_train)\n",
    "X_train_scaled = scaler.transform(X_train)\n",
    "\n",
    "#Transform the datasets\n",
    "X_test_scaled = scaler.transform(X_test)"
   ]
  },
  {
   "cell_type": "code",
   "execution_count": 13,
   "metadata": {},
   "outputs": [
    {
     "name": "stdout",
     "output_type": "stream",
     "text": [
      "[ 1.16664562e-16 -3.05550043e-17 -8.47206937e-17 -2.22218213e-17\n",
      "  2.22218213e-17 -6.38877362e-17 -4.16659149e-18 -2.54439854e-15\n",
      " -8.70817622e-16 -4.08325966e-16 -1.17220107e-15]\n"
     ]
    }
   ],
   "source": [
    "print (X_train_scaled.mean(axis=0))\n"
   ]
  },
  {
   "cell_type": "code",
   "execution_count": 14,
   "metadata": {},
   "outputs": [
    {
     "name": "stdout",
     "output_type": "stream",
     "text": [
      "[1. 1. 1. 1. 1. 1. 1. 1. 1. 1. 1.]\n"
     ]
    }
   ],
   "source": [
    "print (X_train_scaled.std(axis=0))\n"
   ]
  },
  {
   "cell_type": "code",
   "execution_count": 15,
   "metadata": {},
   "outputs": [
    {
     "name": "stdout",
     "output_type": "stream",
     "text": [
      "[ 0.02776704  0.02592492 -0.03078587 -0.03137977 -0.00471876 -0.04413827\n",
      " -0.02414174 -0.00293273 -0.00467444 -0.10894663  0.01043391]\n"
     ]
    }
   ],
   "source": [
    "print (X_test_scaled.mean(axis=0))\n"
   ]
  },
  {
   "cell_type": "code",
   "execution_count": 16,
   "metadata": {},
   "outputs": [
    {
     "name": "stdout",
     "output_type": "stream",
     "text": [
      "[1.02160495 1.00135689 0.97456598 0.91099054 0.86716698 0.94193125\n",
      " 1.03673213 1.03145119 0.95734849 0.83829505 1.0286218 ]\n"
     ]
    }
   ],
   "source": [
    "print (X_test_scaled.std(axis=0))\n"
   ]
  },
  {
   "cell_type": "code",
   "execution_count": 17,
   "metadata": {},
   "outputs": [],
   "source": [
    "#Setup the pipeline for the model - RandomForestRegressor\n",
    "pipeline = make_pipeline(preprocessing.StandardScaler(), \n",
    "                         RandomForestRegressor(n_estimators=100))"
   ]
  },
  {
   "cell_type": "code",
   "execution_count": 18,
   "metadata": {},
   "outputs": [
    {
     "name": "stdout",
     "output_type": "stream",
     "text": [
      "{'memory': None, 'steps': [('standardscaler', StandardScaler(copy=True, with_mean=True, with_std=True)), ('randomforestregressor', RandomForestRegressor(bootstrap=True, criterion='mse', max_depth=None,\n",
      "                      max_features='auto', max_leaf_nodes=None,\n",
      "                      min_impurity_decrease=0.0, min_impurity_split=None,\n",
      "                      min_samples_leaf=1, min_samples_split=2,\n",
      "                      min_weight_fraction_leaf=0.0, n_estimators=100,\n",
      "                      n_jobs=None, oob_score=False, random_state=None,\n",
      "                      verbose=0, warm_start=False))], 'verbose': False, 'standardscaler': StandardScaler(copy=True, with_mean=True, with_std=True), 'randomforestregressor': RandomForestRegressor(bootstrap=True, criterion='mse', max_depth=None,\n",
      "                      max_features='auto', max_leaf_nodes=None,\n",
      "                      min_impurity_decrease=0.0, min_impurity_split=None,\n",
      "                      min_samples_leaf=1, min_samples_split=2,\n",
      "                      min_weight_fraction_leaf=0.0, n_estimators=100,\n",
      "                      n_jobs=None, oob_score=False, random_state=None,\n",
      "                      verbose=0, warm_start=False), 'standardscaler__copy': True, 'standardscaler__with_mean': True, 'standardscaler__with_std': True, 'randomforestregressor__bootstrap': True, 'randomforestregressor__criterion': 'mse', 'randomforestregressor__max_depth': None, 'randomforestregressor__max_features': 'auto', 'randomforestregressor__max_leaf_nodes': None, 'randomforestregressor__min_impurity_decrease': 0.0, 'randomforestregressor__min_impurity_split': None, 'randomforestregressor__min_samples_leaf': 1, 'randomforestregressor__min_samples_split': 2, 'randomforestregressor__min_weight_fraction_leaf': 0.0, 'randomforestregressor__n_estimators': 100, 'randomforestregressor__n_jobs': None, 'randomforestregressor__oob_score': False, 'randomforestregressor__random_state': None, 'randomforestregressor__verbose': 0, 'randomforestregressor__warm_start': False}\n"
     ]
    }
   ],
   "source": [
    "print (pipeline.get_params())\n"
   ]
  },
  {
   "cell_type": "code",
   "execution_count": 19,
   "metadata": {},
   "outputs": [],
   "source": [
    "#Assign the params for the model\n",
    "hyperparameters = { 'randomforestregressor__max_features' : ['auto', 'sqrt', 'log2'],\n",
    "                  'randomforestregressor__max_depth': [None, 5, 3, 1]}"
   ]
  },
  {
   "cell_type": "code",
   "execution_count": 20,
   "metadata": {},
   "outputs": [],
   "source": [
    "#Cross validation the model\n",
    "clf = GridSearchCV(pipeline, hyperparameters, cv=10)\n"
   ]
  },
  {
   "cell_type": "code",
   "execution_count": 21,
   "metadata": {},
   "outputs": [
    {
     "data": {
      "text/plain": [
       "GridSearchCV(cv=10, error_score='raise-deprecating',\n",
       "             estimator=Pipeline(memory=None,\n",
       "                                steps=[('standardscaler',\n",
       "                                        StandardScaler(copy=True,\n",
       "                                                       with_mean=True,\n",
       "                                                       with_std=True)),\n",
       "                                       ('randomforestregressor',\n",
       "                                        RandomForestRegressor(bootstrap=True,\n",
       "                                                              criterion='mse',\n",
       "                                                              max_depth=None,\n",
       "                                                              max_features='auto',\n",
       "                                                              max_leaf_nodes=None,\n",
       "                                                              min_impurity_decrease=0.0,\n",
       "                                                              min_impurity_split=None,\n",
       "                                                              min_...\n",
       "                                                              min_weight_fraction_leaf=0.0,\n",
       "                                                              n_estimators=100,\n",
       "                                                              n_jobs=None,\n",
       "                                                              oob_score=False,\n",
       "                                                              random_state=None,\n",
       "                                                              verbose=0,\n",
       "                                                              warm_start=False))],\n",
       "                                verbose=False),\n",
       "             iid='warn', n_jobs=None,\n",
       "             param_grid={'randomforestregressor__max_depth': [None, 5, 3, 1],\n",
       "                         'randomforestregressor__max_features': ['auto', 'sqrt',\n",
       "                                                                 'log2']},\n",
       "             pre_dispatch='2*n_jobs', refit=True, return_train_score=False,\n",
       "             scoring=None, verbose=0)"
      ]
     },
     "execution_count": 21,
     "metadata": {},
     "output_type": "execute_result"
    }
   ],
   "source": [
    "#Fit and tune the model (long process time)\n",
    "clf.fit(X_train, y_train)\n"
   ]
  },
  {
   "cell_type": "code",
   "execution_count": 22,
   "metadata": {},
   "outputs": [
    {
     "name": "stdout",
     "output_type": "stream",
     "text": [
      "{'randomforestregressor__max_depth': None, 'randomforestregressor__max_features': 'log2'}\n"
     ]
    }
   ],
   "source": [
    "#see what the computer gives us the param\n",
    "print (clf.best_params_)"
   ]
  },
  {
   "cell_type": "code",
   "execution_count": 23,
   "metadata": {},
   "outputs": [
    {
     "name": "stdout",
     "output_type": "stream",
     "text": [
      "True\n"
     ]
    }
   ],
   "source": [
    "print (clf.refit)"
   ]
  },
  {
   "cell_type": "code",
   "execution_count": 24,
   "metadata": {},
   "outputs": [],
   "source": [
    "# Now predict a new set of data\n",
    "y_pred = clf.predict(X_test)"
   ]
  },
  {
   "cell_type": "code",
   "execution_count": 25,
   "metadata": {},
   "outputs": [
    {
     "name": "stdout",
     "output_type": "stream",
     "text": [
      "0.4601668381863311\n"
     ]
    }
   ],
   "source": [
    "#Get the r2 score for test vs the predict\n",
    "print (r2_score(y_test, y_pred))"
   ]
  },
  {
   "cell_type": "code",
   "execution_count": 26,
   "metadata": {
    "scrolled": true
   },
   "outputs": [],
   "source": [
    "#Get f1 score (but not working!!!)\n",
    "# f1_score(y_test, y_pred, labels=None, pos_label=1, average='binary', sample_weight=None,zero_division=\"warn\")\n",
    "#Update - f1 score is for classification problem, R2 is for regression problem.  Thus for this problem, it doesn't make sense for F1 scroe"
   ]
  },
  {
   "cell_type": "code",
   "execution_count": 27,
   "metadata": {},
   "outputs": [
    {
     "name": "stdout",
     "output_type": "stream",
     "text": [
      "0.34834\n"
     ]
    }
   ],
   "source": [
    "print (mean_squared_error(y_test, y_pred))\n"
   ]
  },
  {
   "cell_type": "code",
   "execution_count": 28,
   "metadata": {},
   "outputs": [
    {
     "data": {
      "text/plain": [
       "['winesnob_rf_regressor.pkl']"
      ]
     },
     "execution_count": 28,
     "metadata": {},
     "output_type": "execute_result"
    }
   ],
   "source": [
    "#save work (pickle the python to .pkl as winesnob_rf_regression.pkl)\n",
    "joblib.dump(clf, 'winesnob_rf_regressor.pkl')"
   ]
  },
  {
   "cell_type": "code",
   "execution_count": 29,
   "metadata": {
    "scrolled": true
   },
   "outputs": [
    {
     "data": {
      "text/plain": [
       "array([6.4 , 5.54, 5.  , 5.46, 6.2 , 5.59, 4.96, 4.78, 5.  , 6.03, 5.32,\n",
       "       5.68, 5.79, 5.1 , 5.8 , 5.71, 6.57, 5.67, 5.68, 6.95, 5.37, 5.58,\n",
       "       5.08, 6.04, 5.89, 5.11, 5.29, 5.14, 5.95, 6.02, 5.87, 6.53, 5.99,\n",
       "       5.07, 5.  , 5.92, 5.06, 6.27, 4.98, 5.8 , 4.88, 6.13, 6.6 , 5.09,\n",
       "       6.22, 5.22, 5.57, 5.52, 5.11, 6.53, 6.14, 5.29, 5.75, 5.13, 5.65,\n",
       "       5.67, 5.32, 5.35, 4.97, 5.38, 5.21, 5.21, 5.05, 5.72, 5.88, 5.31,\n",
       "       6.47, 5.06, 5.08, 6.68, 5.8 , 5.72, 5.13, 5.  , 5.34, 5.99, 5.27,\n",
       "       5.13, 5.23, 5.31, 6.37, 5.47, 6.19, 6.33, 5.11, 5.93, 6.51, 6.32,\n",
       "       5.86, 5.81, 5.88, 5.37, 6.3 , 5.66, 5.59, 5.76, 6.76, 6.72, 5.52,\n",
       "       6.86, 5.05, 5.56, 5.13, 6.4 , 5.05, 4.72, 5.67, 4.99, 5.66, 5.98,\n",
       "       5.77, 5.48, 6.09, 5.37, 5.21, 5.23, 5.93, 5.1 , 4.81, 6.07, 5.82,\n",
       "       5.1 , 5.86, 6.22, 5.31, 5.38, 5.32, 6.01, 5.33, 5.42, 5.81, 6.27,\n",
       "       5.13, 5.33, 5.04, 6.26, 5.01, 5.14, 6.66, 5.56, 5.22, 5.04, 5.55,\n",
       "       6.15, 5.35, 5.35, 5.12, 6.53, 5.83, 5.18, 5.55, 5.14, 4.96, 4.95,\n",
       "       5.31, 5.95, 5.43, 5.75, 5.89, 5.24, 5.55, 5.32, 5.31, 5.96, 5.04,\n",
       "       5.95, 5.21, 5.39, 5.42, 5.21, 6.09, 5.05, 5.75, 5.05, 5.53, 5.44,\n",
       "       5.17, 5.38, 5.51, 5.04, 5.91, 5.46, 4.99, 4.97, 5.23, 6.13, 5.17,\n",
       "       5.52, 5.28, 4.85, 5.4 , 6.62, 5.84, 5.84, 5.42, 5.19, 5.46, 5.  ,\n",
       "       6.42, 4.78, 6.26, 5.05, 5.02, 5.27, 6.72, 6.02, 5.34, 5.2 , 5.31,\n",
       "       5.88, 5.76, 5.88, 6.  , 6.18, 5.81, 5.98, 5.23, 5.16, 5.69, 5.2 ,\n",
       "       5.19, 6.03, 6.11, 5.68, 5.95, 5.85, 5.56, 6.2 , 5.33, 5.86, 5.42,\n",
       "       5.35, 6.24, 5.79, 4.83, 4.6 , 6.66, 6.5 , 6.26, 5.31, 5.34, 5.53,\n",
       "       5.46, 6.28, 5.93, 5.16, 5.15, 5.34, 5.43, 6.37, 5.25, 5.12, 5.2 ,\n",
       "       5.14, 5.97, 6.46, 5.64, 5.3 , 5.49, 6.47, 5.51, 5.97, 5.22, 5.21,\n",
       "       5.8 , 5.81, 5.85, 5.47, 5.38, 5.04, 5.68, 5.48, 6.39, 6.1 , 5.62,\n",
       "       5.07, 5.96, 6.47, 5.99, 5.55, 5.67, 5.33, 5.33, 6.05, 6.87, 5.32,\n",
       "       6.51, 5.92, 5.29, 5.55, 5.61, 5.26, 5.14, 6.35, 5.86, 5.9 , 5.98,\n",
       "       5.9 , 5.35, 5.66, 5.56, 6.25, 5.44, 6.83, 6.74, 5.93, 6.24, 5.1 ,\n",
       "       5.33, 5.92, 5.38, 5.28, 6.17, 6.5 , 6.49, 5.16, 5.56, 5.68, 6.05,\n",
       "       5.37])"
      ]
     },
     "execution_count": 29,
     "metadata": {},
     "output_type": "execute_result"
    }
   ],
   "source": [
    "#to run, load model from .pkl file and execute\n",
    "clf2 = joblib.load('winesnob_rf_regressor.pkl')\n",
    "clf2.predict(X_test)"
   ]
  },
  {
   "cell_type": "code",
   "execution_count": 30,
   "metadata": {
    "scrolled": true
   },
   "outputs": [
    {
     "name": "stdout",
     "output_type": "stream",
     "text": [
      "797     7\n",
      "871     5\n",
      "1333    5\n",
      "1463    6\n",
      "1058    7\n",
      "       ..\n",
      "211     6\n",
      "162     6\n",
      "748     6\n",
      "914     6\n",
      "557     5\n",
      "Name: quality, Length: 320, dtype: int64\n"
     ]
    }
   ],
   "source": [
    "#compare above to the expected valute\n",
    "print (y_test)"
   ]
  },
  {
   "cell_type": "code",
   "execution_count": 31,
   "metadata": {},
   "outputs": [],
   "source": [
    "#Try to compare the predicted value to the y_test data sets\n",
    "#Not working yet\n",
    "#from difflib import Differ"
   ]
  },
  {
   "cell_type": "code",
   "execution_count": null,
   "metadata": {},
   "outputs": [],
   "source": []
  }
 ],
 "metadata": {
  "kernelspec": {
   "display_name": "Python 3",
   "language": "python",
   "name": "python3"
  },
  "language_info": {
   "codemirror_mode": {
    "name": "ipython",
    "version": 3
   },
   "file_extension": ".py",
   "mimetype": "text/x-python",
   "name": "python",
   "nbconvert_exporter": "python",
   "pygments_lexer": "ipython3",
   "version": "3.7.4"
  }
 },
 "nbformat": 4,
 "nbformat_minor": 2
}
